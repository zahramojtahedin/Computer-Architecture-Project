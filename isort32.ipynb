{
  "cells": [
    {
      "cell_type": "markdown",
      "metadata": {
        "id": "EQp_DoTEo27d"
      },
      "source": [
        "\n",
        "**Package for fixed point operations**"
      ]
    },
    {
      "cell_type": "code",
      "execution_count": 1,
      "metadata": {
        "colab": {
          "base_uri": "https://localhost:8080/"
        },
        "id": "RYux9dS2oBsu",
        "outputId": "c5a273f1-068b-4d1b-87a8-3762e6dfa80e"
      },
      "outputs": [
        {
          "name": "stdout",
          "output_type": "stream",
          "text": [
            "Collecting fixedint\n",
            "  Downloading fixedint-0.1.6-py3-none-any.whl (12 kB)\n",
            "Installing collected packages: fixedint\n",
            "Successfully installed fixedint-0.1.6\n"
          ]
        }
      ],
      "source": [
        "!pip install fixedint"
      ]
    },
    {
      "cell_type": "markdown",
      "metadata": {
        "id": "KmeSHT6Z7fvt"
      },
      "source": [
        "**Python Version of ISORT32 (Always Not taken Policy)**"
      ]
    },
    {
      "cell_type": "code",
      "execution_count": 4,
      "metadata": {
        "colab": {
          "base_uri": "https://localhost:8080/"
        },
        "id": "kMPfLP0HvQSL",
        "outputId": "e712be48-1d6b-4e31-cd2f-2ff74ce466c4"
      },
      "outputs": [
        {
          "name": "stdout",
          "output_type": "stream",
          "text": [
            "number of miss prediction is = 2955 / 8458\n",
            "miss branch rate = 0.34937337432017024\n"
          ]
        }
      ],
      "source": [
        "import fixedint as fi\n",
        "import pandas as pd\n",
        "import numpy as np\n",
        "  \n",
        "memory = np.zeros(2**16, dtype = np.int32)\n",
        "\n",
        "t0 = fi.Int32(0)\n",
        "t1 = fi.UInt32(96)\n",
        "v1 = fi.Int32(57005)\n",
        "\n",
        "def intHex(a):\n",
        "  return int(a, 16)\n",
        "\n",
        "def hexAdder(a, b):\n",
        "\n",
        "  return hex(intHex(a) + intHex(b))\n",
        "\n",
        "def tohex(val):\n",
        "  return hex((val + (1 << 32)) % (1 << 32))\n",
        "\n",
        "sw_lw = []\n",
        "address = []\n",
        "branch = [['' for j in range(96)] for i in range(7)]\n",
        "\n",
        "miss_branch = 0\n",
        "total_branch = 0\n",
        "while(1):\n",
        "  \n",
        "  ## sw\n",
        "  memory[fi.Int32(0x80)+t0] = v1\n",
        "  sw_lw.append(0)\n",
        "  address.append(tohex(fi.Int32(0x80)+t0))\n",
        "\n",
        "\n",
        "  t1 = t1 - 1\n",
        "  t0 = t0 + 4\n",
        "\n",
        "  v0 = v1 + v1\n",
        "  v0 = v1 ^ v0\n",
        "  v1 = v0 ^ fi.Int32(0xbeef)\n",
        "\n",
        "\n",
        "  # bne\n",
        "  total_branch += 1\n",
        "  if(t1 == 0):\n",
        "    branch[0][0] += '0'\n",
        "    break\n",
        "  else:\n",
        "    branch[0][0] += '1'\n",
        "    miss_branch += 1\n",
        "\n",
        "\n",
        "\n",
        "t0 = fi.Int32(4)\n",
        "t1 = fi.Int32(96)\n",
        "t1 = t1 + t1\n",
        "t1 = t1 + t1\n",
        "\n",
        "\n",
        "i = 0\n",
        "while(1):\n",
        "\n",
        "  # beq\n",
        "  total_branch += 1\n",
        "  if(t0 >= t1):\n",
        "    branch[1][0] += '1'\n",
        "    miss_branch += 1\n",
        "    break\n",
        "  else:\n",
        "    branch[1][0] += '0'\n",
        "\n",
        "  t3 = t0\n",
        "\n",
        "  ## lw\n",
        "  t4 = memory[fi.Int32(0x80)+t0]\n",
        "  sw_lw.append(1)\n",
        "  address.append(tohex(fi.Int32(0x80)+t0))\n",
        "\n",
        "  while( 1 ):\n",
        "\n",
        "    # beq\n",
        "    total_branch += 1\n",
        "    if(t3 == 0):\n",
        "      branch[2][i] += '1'\n",
        "      miss_branch += 1\n",
        "      break\n",
        "    else:\n",
        "      branch[2][i] += '0'\n",
        "\n",
        "    t5 = t3 - 4\n",
        "\n",
        "    ## lw\n",
        "    t6 = memory[fi.Int32(0x80)+t5]\n",
        "    sw_lw.append(1)\n",
        "    address.append(tohex(fi.Int32(0x80)+t5))\n",
        "\n",
        "    # beq\n",
        "    total_branch += 1\n",
        "    if(intHex(tohex(t6)) >= intHex(tohex(t4))):\n",
        "      branch[3][i] += '1'\n",
        "      miss_branch += 1\n",
        "      break\n",
        "    else:\n",
        "      branch[3][i] += '0'\n",
        "    \n",
        "    ## sw\n",
        "    memory[fi.Int32(0x80)+t3] = t6\n",
        "    sw_lw.append(0)\n",
        "    address.append(tohex(fi.Int32(0x80)+t3))\n",
        "\n",
        "    t3 = t5\n",
        "\n",
        "    # beq\n",
        "    total_branch += 1\n",
        "    miss_branch += 1\n",
        "    branch[4][i] += '1'\n",
        "\n",
        "  i += 1\n",
        "  ## sw\n",
        "  memory[fi.Int32(0x80)+t3] = t4\n",
        "  sw_lw.append(0)\n",
        "  address.append(tohex(fi.Int32(0x80)+t3))\n",
        "\n",
        "  t0 = t0 + 4\n",
        "  # beq\n",
        "  total_branch += 1\n",
        "  miss_branch += 1\n",
        "  branch[5][0] += '1'\n",
        "\n",
        "# beq\n",
        "total_branch += 1\n",
        "miss_branch += 1\n",
        "branch[6][0] += '1'\n",
        "\n",
        "  \n",
        "data = [[sw_lw[i], address[i]] for i in range(len(address))]\n",
        "df = pd.DataFrame(data, columns = ['SW/LW', 'ADDRESS'])\n",
        "\n",
        "print(\"number of miss prediction is = \" + str(miss_branch) + \" / \" + str(total_branch))\n",
        "print(\"miss branch rate = \" + str(miss_branch/total_branch))\n",
        "\n",
        "always_not_taken = miss_branch"
      ]
    }
  ],
  "metadata": {
    "colab": {
      "collapsed_sections": [],
      "name": "branch_check.ipynb",
      "provenance": []
    },
    "kernelspec": {
      "display_name": "Python 3",
      "name": "python3"
    },
    "language_info": {
      "name": "python"
    }
  },
  "nbformat": 4,
  "nbformat_minor": 0
}
